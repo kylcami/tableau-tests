{
 "cells": [
  {
   "cell_type": "code",
   "execution_count": 43,
   "metadata": {},
   "outputs": [],
   "source": [
    "#pip install openpyxl"
   ]
  },
  {
   "cell_type": "code",
   "execution_count": 51,
   "metadata": {},
   "outputs": [],
   "source": [
    "import pandas as pd\n",
    "airbnb=pd.read_excel(\"airbnb.xlsx\",sheet_name=\"AirBnB_NYC\")"
   ]
  },
  {
   "cell_type": "code",
   "execution_count": 64,
   "metadata": {},
   "outputs": [
    {
     "name": "stdout",
     "output_type": "stream",
     "text": [
      "View the first few rows of the dataset\n"
     ]
    },
    {
     "data": {
      "text/html": [
       "<div>\n",
       "<style scoped>\n",
       "    .dataframe tbody tr th:only-of-type {\n",
       "        vertical-align: middle;\n",
       "    }\n",
       "\n",
       "    .dataframe tbody tr th {\n",
       "        vertical-align: top;\n",
       "    }\n",
       "\n",
       "    .dataframe thead th {\n",
       "        text-align: right;\n",
       "    }\n",
       "</style>\n",
       "<table border=\"1\" class=\"dataframe\">\n",
       "  <thead>\n",
       "    <tr style=\"text-align: right;\">\n",
       "      <th></th>\n",
       "      <th>HostId</th>\n",
       "      <th>HostSince</th>\n",
       "      <th>Name</th>\n",
       "      <th>Neighbourhood</th>\n",
       "      <th>PropertyType</th>\n",
       "      <th>RoomType</th>\n",
       "      <th>Zipcode</th>\n",
       "      <th>Beds</th>\n",
       "      <th>NumberofRecords</th>\n",
       "      <th>NumberOfReviews</th>\n",
       "      <th>Price</th>\n",
       "      <th>ReviewScoresRating</th>\n",
       "    </tr>\n",
       "  </thead>\n",
       "  <tbody>\n",
       "    <tr>\n",
       "      <th>0</th>\n",
       "      <td>5162530</td>\n",
       "      <td>NaT</td>\n",
       "      <td>1 Bedroom in Prime Williamsburg</td>\n",
       "      <td>Brooklyn</td>\n",
       "      <td>Apartment</td>\n",
       "      <td>Entire home/apt</td>\n",
       "      <td>11249</td>\n",
       "      <td>1</td>\n",
       "      <td>1</td>\n",
       "      <td>0</td>\n",
       "      <td>145</td>\n",
       "      <td>NaN</td>\n",
       "    </tr>\n",
       "    <tr>\n",
       "      <th>1</th>\n",
       "      <td>33134899</td>\n",
       "      <td>NaT</td>\n",
       "      <td>Sunny, Private room in Bushwick</td>\n",
       "      <td>Brooklyn</td>\n",
       "      <td>Apartment</td>\n",
       "      <td>Private room</td>\n",
       "      <td>11206</td>\n",
       "      <td>1</td>\n",
       "      <td>1</td>\n",
       "      <td>1</td>\n",
       "      <td>37</td>\n",
       "      <td>NaN</td>\n",
       "    </tr>\n",
       "    <tr>\n",
       "      <th>2</th>\n",
       "      <td>39608626</td>\n",
       "      <td>NaT</td>\n",
       "      <td>Sunny Room in Harlem</td>\n",
       "      <td>Manhattan</td>\n",
       "      <td>Apartment</td>\n",
       "      <td>Private room</td>\n",
       "      <td>10032</td>\n",
       "      <td>1</td>\n",
       "      <td>1</td>\n",
       "      <td>1</td>\n",
       "      <td>28</td>\n",
       "      <td>NaN</td>\n",
       "    </tr>\n",
       "    <tr>\n",
       "      <th>3</th>\n",
       "      <td>500</td>\n",
       "      <td>2008-06-26</td>\n",
       "      <td>Gorgeous 1 BR with Private Balcony</td>\n",
       "      <td>Manhattan</td>\n",
       "      <td>Apartment</td>\n",
       "      <td>Entire home/apt</td>\n",
       "      <td>10024</td>\n",
       "      <td>3</td>\n",
       "      <td>1</td>\n",
       "      <td>0</td>\n",
       "      <td>199</td>\n",
       "      <td>NaN</td>\n",
       "    </tr>\n",
       "    <tr>\n",
       "      <th>4</th>\n",
       "      <td>500</td>\n",
       "      <td>2008-06-26</td>\n",
       "      <td>Trendy Times Square Loft</td>\n",
       "      <td>Manhattan</td>\n",
       "      <td>Apartment</td>\n",
       "      <td>Private room</td>\n",
       "      <td>10036</td>\n",
       "      <td>3</td>\n",
       "      <td>1</td>\n",
       "      <td>39</td>\n",
       "      <td>549</td>\n",
       "      <td>96.0</td>\n",
       "    </tr>\n",
       "  </tbody>\n",
       "</table>\n",
       "</div>"
      ],
      "text/plain": [
       "     HostId  HostSince                                Name Neighbourhood  \\\n",
       "0   5162530        NaT     1 Bedroom in Prime Williamsburg      Brooklyn   \n",
       "1  33134899        NaT     Sunny, Private room in Bushwick      Brooklyn   \n",
       "2  39608626        NaT                Sunny Room in Harlem     Manhattan   \n",
       "3       500 2008-06-26  Gorgeous 1 BR with Private Balcony     Manhattan   \n",
       "4       500 2008-06-26            Trendy Times Square Loft     Manhattan   \n",
       "\n",
       "  PropertyType         RoomType  Zipcode  Beds  NumberofRecords  \\\n",
       "0    Apartment  Entire home/apt    11249     1                1   \n",
       "1    Apartment     Private room    11206     1                1   \n",
       "2    Apartment     Private room    10032     1                1   \n",
       "3    Apartment  Entire home/apt    10024     3                1   \n",
       "4    Apartment     Private room    10036     3                1   \n",
       "\n",
       "   NumberOfReviews  Price  ReviewScoresRating  \n",
       "0                0    145                 NaN  \n",
       "1                1     37                 NaN  \n",
       "2                1     28                 NaN  \n",
       "3                0    199                 NaN  \n",
       "4               39    549                96.0  "
      ]
     },
     "execution_count": 64,
     "metadata": {},
     "output_type": "execute_result"
    }
   ],
   "source": [
    "print (f\"View the first few rows of the dataset\")\n",
    "airbnb.head()"
   ]
  },
  {
   "cell_type": "code",
   "execution_count": 58,
   "metadata": {},
   "outputs": [
    {
     "name": "stdout",
     "output_type": "stream",
     "text": [
      "Get a summary of the dataset (column names, data types, and missing values)\n",
      "<class 'pandas.core.frame.DataFrame'>\n",
      "Index: 30344 entries, 0 to 30477\n",
      "Data columns (total 12 columns):\n",
      " #   Column              Non-Null Count  Dtype         \n",
      "---  ------              --------------  -----         \n",
      " 0   HostId              30344 non-null  int64         \n",
      " 1   HostSince           30341 non-null  datetime64[ns]\n",
      " 2   Name                30344 non-null  object        \n",
      " 3   Neighbourhood       30344 non-null  object        \n",
      " 4   PropertyType        30341 non-null  object        \n",
      " 5   RoomType            30344 non-null  object        \n",
      " 6   Zipcode             30344 non-null  float64       \n",
      " 7   Beds                30260 non-null  float64       \n",
      " 8   NumberofRecords     30344 non-null  int64         \n",
      " 9   NumberOfReviews     30344 non-null  int64         \n",
      " 10  Price               30344 non-null  int64         \n",
      " 11  ReviewScoresRating  22055 non-null  float64       \n",
      "dtypes: datetime64[ns](1), float64(3), int64(4), object(4)\n",
      "memory usage: 3.0+ MB\n"
     ]
    }
   ],
   "source": [
    "# print (f\"Check the shape of the dataset (rows, columns)\")\n",
    "# airbnb.shape\n",
    "\n",
    "print (f\"Get a summary of the dataset (column names, data types, and missing values)\")\n",
    "airbnb.info()\n",
    "\n",
    "# print (f\"Get statistical summary of numerical columns\")\n",
    "# airbnb.describe()\n",
    "\n",
    "# print (f\"Check for missing values across the dataset\")\n",
    "# airbnb.isnull().sum()\n",
    "\n",
    "# print (f\"Check for duplicate rows\")\n",
    "# airbnb.duplicated().sum()\n"
   ]
  },
  {
   "cell_type": "code",
   "execution_count": 57,
   "metadata": {},
   "outputs": [],
   "source": [
    "# Remove Whitespaces from column names \n",
    "airbnb.columns = airbnb.columns.str.replace(' ','')\n",
    "# Drop ReviewScoresRating(bin) column\n",
    "airbnb = airbnb.drop(columns=['ReviewScoresRating(bin)'])"
   ]
  },
  {
   "cell_type": "code",
   "execution_count": 68,
   "metadata": {},
   "outputs": [
    {
     "name": "stdout",
     "output_type": "stream",
     "text": [
      "HostId                   0\n",
      "HostSince                3\n",
      "Name                     0\n",
      "Neighbourhood            0\n",
      "PropertyType             0\n",
      "RoomType                 0\n",
      "Zipcode                  0\n",
      "Beds                     0\n",
      "NumberofRecords          0\n",
      "NumberOfReviews          0\n",
      "Price                    0\n",
      "ReviewScoresRating    8247\n",
      "dtype: int64\n"
     ]
    }
   ],
   "source": [
    "# Check for missing values\n",
    "missing_values = airbnb.isnull().sum()\n",
    "print(missing_values)\n",
    "# Drop Hosts without Zipcode\n",
    "airbnb.drop(airbnb[airbnb['Zipcode'].isnull()].index, inplace = True)\n",
    "# Drop Hosts without Beds\n",
    "airbnb.drop(airbnb[airbnb['Beds'].isnull()].index, inplace = True)\n",
    "# Drop Hosts without PropertyType\n",
    "airbnb.drop(airbnb[airbnb['PropertyType'].isnull()].index, inplace = True)"
   ]
  },
  {
   "cell_type": "code",
   "execution_count": 63,
   "metadata": {},
   "outputs": [],
   "source": [
    "# Convert Zipcode to integer from float\n",
    "airbnb['Zipcode'] = airbnb['Zipcode'].astype(int)\n",
    "airbnb['Beds'] = airbnb['Beds'].astype(int)"
   ]
  },
  {
   "cell_type": "code",
   "execution_count": 79,
   "metadata": {},
   "outputs": [
    {
     "name": "stdout",
     "output_type": "stream",
     "text": [
      "Empty DataFrame\n",
      "Columns: [HostId, HostSince, Name, Neighbourhood, PropertyType, RoomType, Zipcode, Beds, NumberofRecords, NumberOfReviews, Price, ReviewScoresRating]\n",
      "Index: []\n",
      "\n",
      "\n",
      "Empty DataFrame\n",
      "Columns: [HostId, HostSince, Name, Neighbourhood, PropertyType, RoomType, Zipcode, Beds, NumberofRecords, NumberOfReviews, Price, ReviewScoresRating]\n",
      "Index: []\n",
      "\n",
      "\n",
      "Empty DataFrame\n",
      "Columns: [HostId, HostSince, Name, Neighbourhood, PropertyType, RoomType, Zipcode, Beds, NumberofRecords, NumberOfReviews, Price, ReviewScoresRating]\n",
      "Index: []\n",
      "\n",
      "\n"
     ]
    }
   ],
   "source": [
    "zipcodes = airbnb.query('Zipcode == 99135')\n",
    "print(zipcodes)\n",
    "print (\"\\n\")\n",
    "zipcodes = airbnb.query('Zipcode == 94103')\n",
    "print(zipcodes)\n",
    "print (\"\\n\")\n",
    "zipcodes = airbnb.query('Zipcode == 1003')\n",
    "print(zipcodes)\n",
    "print (\"\\n\")\n",
    "# Drop the above zip codes which are not located in NY\n",
    "indexIncorrectZip = airbnb[airbnb['Zipcode'].isin([1003, 99135, 94103])].index\n",
    "airbnb.drop(indexIncorrectZip , inplace=True)"
   ]
  },
  {
   "cell_type": "code",
   "execution_count": 80,
   "metadata": {},
   "outputs": [],
   "source": [
    "# export to csv\n",
    "airbnb.to_csv('airbnb_ny_clean.csv', sep='\\t')"
   ]
  },
  {
   "cell_type": "code",
   "execution_count": 82,
   "metadata": {},
   "outputs": [
    {
     "name": "stdout",
     "output_type": "stream",
     "text": [
      "         HostId  HostSince                              Name  Neighbourhood  \\\n",
      "21829  19282518 2014-08-01  LUXURY MANSION WITH A POOL IN SI  Staten Island   \n",
      "\n",
      "      PropertyType         RoomType  Zipcode  Beds  NumberofRecords  \\\n",
      "21829        House  Entire home/apt    10309     4                1   \n",
      "\n",
      "       NumberOfReviews  Price  ReviewScoresRating  \n",
      "21829                0    850                 NaN  \n"
     ]
    }
   ],
   "source": [
    "zipcode_10309=airbnb.query('Zipcode == 10309')\n",
    "print(zipcode_10309)"
   ]
  },
  {
   "cell_type": "code",
   "execution_count": null,
   "metadata": {},
   "outputs": [],
   "source": []
  }
 ],
 "metadata": {
  "kernelspec": {
   "display_name": "Python 3",
   "language": "python",
   "name": "python3"
  },
  "language_info": {
   "codemirror_mode": {
    "name": "ipython",
    "version": 3
   },
   "file_extension": ".py",
   "mimetype": "text/x-python",
   "name": "python",
   "nbconvert_exporter": "python",
   "pygments_lexer": "ipython3",
   "version": "3.12.6"
  }
 },
 "nbformat": 4,
 "nbformat_minor": 2
}
